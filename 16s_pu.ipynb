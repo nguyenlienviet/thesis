{
 "cells": [
  {
   "cell_type": "code",
   "execution_count": 22,
   "metadata": {},
   "outputs": [
    {
     "name": "stdout",
     "output_type": "stream",
     "text": [
      "The autoreload extension is already loaded. To reload it, use:\n",
      "  %reload_ext autoreload\n"
     ]
    }
   ],
   "source": [
    "import pandas as pd\n",
    "import numpy as np\n",
    "import os\n",
    "from igraph import Graph, plot\n",
    "import matplotlib.pyplot as plt\n",
    "import utils\n",
    "from collections import Counter, defaultdict\n",
    "import networkx as nx\n",
    "\n",
    "\n",
    "%load_ext autoreload\n",
    "%aimport utils\n",
    "%autoreload 1"
   ]
  },
  {
   "cell_type": "markdown",
   "metadata": {},
   "source": [
    "# Read data and preprocess"
   ]
  },
  {
   "cell_type": "code",
   "execution_count": 25,
   "metadata": {},
   "outputs": [],
   "source": [
    "TAX_LEVEL = 5\n",
    "OUTDIR = 'data/16S_family_pu'\n",
    "SEASON = 'Peak Upwelling'\n",
    "\n",
    "os.makedirs(OUTDIR, exist_ok=True)"
   ]
  },
  {
   "cell_type": "code",
   "execution_count": 26,
   "metadata": {},
   "outputs": [],
   "source": [
    "df_raw = pd.read_excel('data/16S_AV_OTU_table_wTaxa.xlsx')\n",
    "meta = pd.read_excel('data/16S_AV_March2019_Metadata.xlsx')\n",
    "\n",
    "df_raw = df_raw.set_index(['OTU', 'taxonomy'])\n",
    "df_raw = utils.subset_by_season(df_raw, meta, SEASON)"
   ]
  },
  {
   "cell_type": "code",
   "execution_count": null,
   "metadata": {},
   "outputs": [],
   "source": [
    "df_filtered = utils.filter_by_abundance(df_raw, .001)\n",
    "df_filtered = utils.filter_by_prevalence(df_filtered, 3)\n",
    "df_filtered = df_filtered.reset_index().drop(columns='taxonomy').set_index('OTU')\n",
    "df_filtered_relative = df_filtered / df_raw.sum()\n",
    "len(df_filtered) / len(df_raw)"
   ]
  },
  {
   "cell_type": "code",
   "execution_count": null,
   "metadata": {},
   "outputs": [],
   "source": [
    "most_abundance = utils.filter_by_abundance(df_raw, .02)\n",
    "most_abundance = utils.filter_by_prevalence(most_abundance, 3)\n",
    "most_abundance_relative = most_abundance / df_raw.sum()\n",
    "\n",
    "f = plt.figure()\n",
    "time = meta.set_index('Sample_Names').loc[most_abundance.columns]['Month'] + '-2018'\n",
    "plt.title('16S Peak Upwelling Community Composition', color='black', fontsize=12)\n",
    "most_abundance_relative.T.plot(kind='barh', stacked=True, figsize=(20, 10), ax=f.gca(), fontsize=12)\n",
    "plt.legend(loc='lower center', bbox_to_anchor=(.5, -.7), fontsize=12)\n",
    "plt.savefig('16s_pu_composition.jpg', bbox_inches='tight')"
   ]
  },
  {
   "cell_type": "markdown",
   "metadata": {},
   "source": [
    "# Build graph"
   ]
  },
  {
   "cell_type": "code",
   "execution_count": null,
   "metadata": {},
   "outputs": [],
   "source": [
    "from datetime import datetime\n",
    "start = datetime.now()\n",
    "df_cor, df_pval = utils.run_sparcc(df_filtered, OUTDIR, force=True)\n",
    "(datetime.now() - start).seconds"
   ]
  },
  {
   "cell_type": "code",
   "execution_count": null,
   "metadata": {},
   "outputs": [],
   "source": [
    "threshold = utils.correct_pvals(df_pval)\n",
    "print(threshold)\n",
    "min_pval = df_pval.min().min()\n",
    "print(min_pval)"
   ]
  },
  {
   "cell_type": "code",
   "execution_count": null,
   "metadata": {},
   "outputs": [],
   "source": [
    "df_cor[df_pval > max(threshold, min_pval)] = 0"
   ]
  },
  {
   "cell_type": "code",
   "execution_count": null,
   "metadata": {},
   "outputs": [],
   "source": [
    "flatten_cor = utils.flatten_square_df(df_cor, k=1)\n",
    "plt.hist(flatten_cor)"
   ]
  },
  {
   "cell_type": "code",
   "execution_count": null,
   "metadata": {},
   "outputs": [],
   "source": [
    "flatten_cor[flatten_cor != 0].describe()"
   ]
  },
  {
   "cell_type": "code",
   "execution_count": null,
   "metadata": {},
   "outputs": [],
   "source": [
    "G = nx.from_pandas_adjacency(df_cor)"
   ]
  },
  {
   "cell_type": "code",
   "execution_count": null,
   "metadata": {},
   "outputs": [],
   "source": [
    "OTU_to_tax = {OTU:tuple(x.strip('_') for x in tax.split('; ')) for OTU, tax in df_raw.index if OTU in G}"
   ]
  },
  {
   "cell_type": "code",
   "execution_count": null,
   "metadata": {},
   "outputs": [],
   "source": [
    "for OTU, tax in OTU_to_tax.items():\n",
    "    G = nx.relabel_nodes(G, {OTU:tax+(OTU,)})"
   ]
  },
  {
   "cell_type": "code",
   "execution_count": null,
   "metadata": {},
   "outputs": [],
   "source": [
    "for node, attrs in G.nodes.items():\n",
    "    attrs['OTUs'] = 1"
   ]
  },
  {
   "cell_type": "code",
   "execution_count": null,
   "metadata": {},
   "outputs": [],
   "source": [
    "utils.merge_nodes_to_level(G, 6, 5)"
   ]
  },
  {
   "cell_type": "code",
   "execution_count": null,
   "metadata": {},
   "outputs": [],
   "source": [
    "utils.add_node_attrs(G, TAX_LEVEL, df_filtered_relative, OTU_to_tax)\n",
    "utils.add_edge_attrs(G)"
   ]
  },
  {
   "cell_type": "code",
   "execution_count": null,
   "metadata": {},
   "outputs": [],
   "source": [
    "top_connected = [x for x, y in sorted(G.degree, key=lambda x: x[1], reverse=True)[:5]]\n",
    "top_abundance = sorted(G.nodes, key=lambda n: G.nodes[n]['abundance'], reverse=True)[:5]\n",
    "\n",
    "for n, attrs in G.nodes.items():\n",
    "    if n in top_connected and n in top_abundance:\n",
    "        attrs['color'] = 'orange'\n",
    "    elif n in top_connected:\n",
    "        attrs['color'] = 'red'\n",
    "    elif n in top_abundance:\n",
    "        attrs['color'] = 'yellow'"
   ]
  },
  {
   "cell_type": "code",
   "execution_count": null,
   "metadata": {},
   "outputs": [],
   "source": [
    "t = nx.transitivity(G)\n",
    "print(f\"Transitivity: {t}\")\n",
    "\n",
    "count_t = 0\n",
    "for _ in range(10000):\n",
    "    random_G = nx.gnm_random_graph(len(G.nodes), len(G.edges))\n",
    "    if nx.transitivity(random_G) >= t:\n",
    "        count_t += 1\n",
    "print(f'p-value: {count_t/10000}')"
   ]
  },
  {
   "cell_type": "markdown",
   "metadata": {
    "tags": []
   },
   "source": [
    "# Env vars"
   ]
  },
  {
   "cell_type": "code",
   "execution_count": null,
   "metadata": {},
   "outputs": [],
   "source": [
    "env_vars = meta.set_index('Sample_Names').loc[df_filtered_relative.columns][['Temp_C', 'Salinity', 'Chlorophyll_ugL']]\n",
    "for env_var in env_vars:\n",
    "    env_cor = utils.calc_spearman_cor(df_filtered_relative, env_vars[env_var])\n",
    "    utils.add_env_node(G, env_cor, OTU_to_tax)"
   ]
  },
  {
   "cell_type": "code",
   "execution_count": null,
   "metadata": {},
   "outputs": [],
   "source": [
    "nx.write_gml(G, os.path.join(OUTDIR, 'graph.gml'), stringizer=lambda x: '; '.join(x) if type(x)!=str else x)"
   ]
  },
  {
   "cell_type": "code",
   "execution_count": null,
   "metadata": {},
   "outputs": [],
   "source": []
  }
 ],
 "metadata": {
  "kernelspec": {
   "display_name": "Python 3",
   "language": "python",
   "name": "python3"
  },
  "language_info": {
   "codemirror_mode": {
    "name": "ipython",
    "version": 3
   },
   "file_extension": ".py",
   "mimetype": "text/x-python",
   "name": "python",
   "nbconvert_exporter": "python",
   "pygments_lexer": "ipython3",
   "version": "3.6.9"
  }
 },
 "nbformat": 4,
 "nbformat_minor": 4
}
