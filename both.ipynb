{
 "cells": [
  {
   "cell_type": "code",
   "execution_count": 1,
   "metadata": {},
   "outputs": [],
   "source": [
    "import pandas as pd\n",
    "import numpy as np\n",
    "import os\n",
    "from sklearn.cluster import AgglomerativeClustering\n",
    "from igraph import Graph, plot\n",
    "import matplotlib.pyplot as plt\n",
    "import skbio\n",
    "import subprocess\n",
    "import utils\n",
    "import manta\n",
    "from scipy.cluster.hierarchy import dendrogram\n",
    "import itertools\n",
    "from matplotlib_venn import venn3, venn3_circles\n",
    "from matplotlib_venn import venn2, venn2_circles\n",
    "from collections import Counter\n",
    "from venn import venn\n",
    "import networkx as nx\n",
    "from scipy.stats import spearmanr\n",
    "\n",
    "%load_ext autoreload\n",
    "%aimport utils\n",
    "%aimport manta\n",
    "%autoreload 1"
   ]
  },
  {
   "cell_type": "markdown",
   "metadata": {},
   "source": [
    "# Read data and filter"
   ]
  },
  {
   "cell_type": "code",
   "execution_count": 2,
   "metadata": {},
   "outputs": [],
   "source": [
    "TAX_LEVEL = 5\n",
    "OUTDIR = 'data/both'"
   ]
  },
  {
   "cell_type": "code",
   "execution_count": 4,
   "metadata": {},
   "outputs": [],
   "source": [
    "# Read data\n",
    "df_raw_16s = pd.read_excel('data/16S_AV_OTU_table_wTaxa.xlsx')\n",
    "meta_16s = pd.read_excel('data/16S_AV_March2019_Metadata.xlsx')\n",
    "df_raw_18s = pd.read_excel('data/18S_AV_OTU_table_wTaxa.xlsx')\n",
    "meta_18s = pd.read_excel('data/18S_AV_March2019_Metadata.xlsx')"
   ]
  },
  {
   "cell_type": "code",
   "execution_count": 5,
   "metadata": {},
   "outputs": [],
   "source": [
    "df_raw_16s['OTU'] = df_raw_16s['OTU'] + '_16s'\n",
    "df_raw_18s['OTU'] = df_raw_18s['OTU'] + '_18s'"
   ]
  },
  {
   "cell_type": "code",
   "execution_count": 6,
   "metadata": {},
   "outputs": [],
   "source": [
    "df_raw_16s = df_raw_16s.set_index(['OTU', 'taxonomy'])\n",
    "df_raw_18s = df_raw_18s.set_index(['OTU', 'taxonomy'])"
   ]
  },
  {
   "cell_type": "code",
   "execution_count": 7,
   "metadata": {},
   "outputs": [],
   "source": [
    "df_filtered_16s = utils.filter_by_abundance(df_raw_16s, .01)\n",
    "df_filtered_18s = utils.filter_by_abundance(df_raw_18s, .01)"
   ]
  },
  {
   "cell_type": "code",
   "execution_count": 8,
   "metadata": {},
   "outputs": [],
   "source": [
    "df_filtered_16s = utils.filter_by_prevalence(df_filtered_16s, 3)\n",
    "df_filtered_18s = utils.filter_by_prevalence(df_filtered_18s, 3)"
   ]
  },
  {
   "cell_type": "code",
   "execution_count": 9,
   "metadata": {},
   "outputs": [],
   "source": [
    "df_filtered_16s = df_filtered_16s.reset_index().drop(columns='taxonomy').set_index('OTU')\n",
    "df_filtered_18s = df_filtered_18s.reset_index().drop(columns='taxonomy').set_index('OTU')"
   ]
  },
  {
   "cell_type": "code",
   "execution_count": 10,
   "metadata": {},
   "outputs": [],
   "source": [
    "df_filtered_relative_16s = df_filtered_16s / df_raw_16s.sum()\n",
    "df_filtered_relative_18s = df_filtered_18s / df_raw_18s.sum()"
   ]
  },
  {
   "cell_type": "code",
   "execution_count": 11,
   "metadata": {},
   "outputs": [],
   "source": [
    "df_filtered_relative_16s.columns = meta_16s.set_index('Sample_Names').loc[df_filtered_relative_16s.columns]['AV_Numbers'].tolist()"
   ]
  },
  {
   "cell_type": "code",
   "execution_count": 12,
   "metadata": {},
   "outputs": [],
   "source": [
    "df_filtered_relative_18s.columns = meta_18s.set_index('Sample_Names').loc[df_filtered_relative_18s.columns]['AV_Numbers'].tolist()"
   ]
  },
  {
   "cell_type": "code",
   "execution_count": 13,
   "metadata": {},
   "outputs": [],
   "source": [
    "columns = list(set(df_filtered_relative_16s.columns) & set(df_filtered_relative_18s.columns))\n",
    "df_filtered_relative_16s = df_filtered_relative_16s[columns]\n",
    "df_filtered_relative_18s = df_filtered_relative_18s[columns]"
   ]
  },
  {
   "cell_type": "code",
   "execution_count": 14,
   "metadata": {},
   "outputs": [],
   "source": [
    "df_spearman = df_filtered_relative_16s.apply(lambda row1: df_filtered_relative_18s.apply(lambda row2: spearmanr(row1, row2), axis=1), axis=1)"
   ]
  },
  {
   "cell_type": "code",
   "execution_count": 15,
   "metadata": {},
   "outputs": [],
   "source": [
    "pvals = df_spearman.applymap(lambda x: x[1]).values.flatten()"
   ]
  },
  {
   "cell_type": "code",
   "execution_count": 16,
   "metadata": {},
   "outputs": [
    {
     "data": {
      "text/plain": [
       "0.003968956043480493"
      ]
     },
     "execution_count": 16,
     "metadata": {},
     "output_type": "execute_result"
    }
   ],
   "source": [
    "threshold = utils.correct_alpha(pvals)\n",
    "threshold"
   ]
  },
  {
   "cell_type": "code",
   "execution_count": 17,
   "metadata": {},
   "outputs": [],
   "source": [
    "df_cor = df_spearman.applymap(lambda x: x[0] if x[1] <= threshold else 0.0)"
   ]
  },
  {
   "cell_type": "markdown",
   "metadata": {},
   "source": [
    "# Build graph"
   ]
  },
  {
   "cell_type": "code",
   "execution_count": 18,
   "metadata": {},
   "outputs": [
    {
     "data": {
      "text/plain": [
       "(array([  20.,  108.,    0.,    0., 4169.,    0.,    0.,    0.,  163.,\n",
       "          40.]),\n",
       " array([-0.8004513 , -0.63633781, -0.47222432, -0.30811083, -0.14399733,\n",
       "         0.02011616,  0.18422965,  0.34834314,  0.51245663,  0.67657012,\n",
       "         0.84068361]),\n",
       " <a list of 10 Patch objects>)"
      ]
     },
     "execution_count": 18,
     "metadata": {},
     "output_type": "execute_result"
    },
    {
     "data": {
      "image/png": "[encoded data removed]",
      "text/plain": [
       "<Figure size 432x288 with 1 Axes>"
      ]
     },
     "metadata": {
      "needs_background": "light"
     },
     "output_type": "display_data"
    }
   ],
   "source": [
    "flatten_cor = utils.flatten_square_df(df_cor, k=1)\n",
    "plt.hist(flatten_cor)"
   ]
  },
  {
   "cell_type": "code",
   "execution_count": 19,
   "metadata": {},
   "outputs": [
    {
     "data": {
      "text/plain": [
       "589"
      ]
     },
     "execution_count": 19,
     "metadata": {},
     "output_type": "execute_result"
    }
   ],
   "source": [
    "(df_cor != 0).sum().sum()"
   ]
  },
  {
   "cell_type": "code",
   "execution_count": 20,
   "metadata": {},
   "outputs": [],
   "source": [
    "G = nx.Graph()\n",
    "for _, row in df_cor.iterrows():\n",
    "    a = row.name\n",
    "    for b, cor in row.iteritems():\n",
    "        if cor != 0:\n",
    "            G.add_edge(a, b, weight=cor)"
   ]
  },
  {
   "cell_type": "code",
   "execution_count": 21,
   "metadata": {},
   "outputs": [],
   "source": [
    "OTU_to_tax = {OTU:tuple(x.strip('_') for x in tax.split('; ')) for OTU, tax in df_raw_16s.index if OTU in G}\n",
    "OTU_to_tax.update({OTU:tuple(x.strip('_') for x in tax.split('; ')) for OTU, tax in df_raw_18s.index if OTU in G})"
   ]
  },
  {
   "cell_type": "code",
   "execution_count": 22,
   "metadata": {},
   "outputs": [],
   "source": [
    "for OTU, tax in OTU_to_tax.items():\n",
    "    G = nx.relabel_nodes(G, {OTU:tax+(OTU,)})"
   ]
  },
  {
   "cell_type": "code",
   "execution_count": 23,
   "metadata": {},
   "outputs": [],
   "source": [
    "for node, attrs in G.nodes.items():\n",
    "    attrs['taxonomy'] = '; '.join(node[:min(len(node), TAX_LEVEL)])\n",
    "    attrs['OTUs'] = 1"
   ]
  },
  {
   "cell_type": "code",
   "execution_count": 24,
   "metadata": {},
   "outputs": [],
   "source": [
    "for node, attrs in G.nodes.items():\n",
    "    G.nodes[node]['taxonomy']"
   ]
  },
  {
   "cell_type": "code",
   "execution_count": 25,
   "metadata": {},
   "outputs": [
    {
     "data": {
      "text/plain": [
       "{'taxonomy': 'Bacteria; Bacteroidetes; Flavobacteriia; Flavobacteriales; NS9_marine_group',\n",
       " 'OTUs': 1}"
      ]
     },
     "execution_count": 25,
     "metadata": {},
     "output_type": "execute_result"
    }
   ],
   "source": [
    "G.nodes[('Bacteria', 'Bacteroidetes', 'Flavobacteriia', 'Flavobacteriales', 'NS9_marine_group', 'g', 'denovo1669_16s')]"
   ]
  },
  {
   "cell_type": "code",
   "execution_count": 26,
   "metadata": {},
   "outputs": [
    {
     "name": "stdout",
     "output_type": "stream",
     "text": [
      "152\n",
      "123\n",
      "114\n",
      "92\n",
      "77\n"
     ]
    }
   ],
   "source": [
    "print(len(G))\n",
    "for level in range (8, 4, -1):\n",
    "    member_to_supernode = utils.get_member_to_supernode(G, level)\n",
    "    supernode_to_members = utils.get_supernode_to_members(member_to_supernode)\n",
    "    togroup = utils.find_valid_grouping(G, supernode_to_members, level)\n",
    "    for supernode in togroup:\n",
    "        utils.merge_nodes(G, supernode_to_members[supernode], supernode)\n",
    "    print(len(G))"
   ]
  },
  {
   "cell_type": "code",
   "execution_count": 27,
   "metadata": {},
   "outputs": [],
   "source": [
    "for edge, attrs in G.edges.items():\n",
    "    attrs['absweight'] = abs(attrs['weight'])\n",
    "    attrs['color'] = 'green' if attrs['weight'] > 0 else 'red'"
   ]
  },
  {
   "cell_type": "code",
   "execution_count": 28,
   "metadata": {},
   "outputs": [],
   "source": [
    "for n, attrs in G.nodes.items():\n",
    "    if n[-1].startswith('denovo'):\n",
    "        OTUs = [n[-1]]\n",
    "    else:\n",
    "        OTUs = [OTU for OTU, tax in OTU_to_tax.items() if len(tax) >= len(n) and tax[:len(n)] == n]\n",
    "    try:\n",
    "        attrs['abundance'] = df_filtered_relative_16s.loc[OTUs].mean().mean()\n",
    "    except KeyError:\n",
    "        attrs['abundance'] = df_filtered_relative_18s.loc[OTUs].mean().mean()"
   ]
  },
  {
   "cell_type": "code",
   "execution_count": 29,
   "metadata": {},
   "outputs": [],
   "source": [
    "def domain(x):\n",
    "    if type(x) == str:\n",
    "        return '16s' if x.endswith('16s') else '18s'\n",
    "    else:\n",
    "        return '18s' if x[0] == 'Eukaryota' else '16s'"
   ]
  },
  {
   "cell_type": "code",
   "execution_count": 30,
   "metadata": {},
   "outputs": [],
   "source": [
    "top10_connected_16s = [x for x, y in sorted([(i, j) for i, j in G.degree if domain(i) == '16s'], key=lambda x: x[1], reverse=True)[:10]]\n",
    "top10_connected_18s = [x for x, y in sorted([(i, j) for i, j in G.degree if domain(i) == '18s'], key=lambda x: x[1], reverse=True)[:10]]\n",
    "\n",
    "top10_abundance_16s = sorted([x for x in G.nodes if domain(x) == '16s'], key=lambda n: G.nodes[n]['abundance'], reverse=True)[:10]\n",
    "top10_abundance_18s = sorted([x for x in G.nodes if domain(x) == '18s'], key=lambda n: G.nodes[n]['abundance'], reverse=True)[:10]\n",
    "\n",
    "\n",
    "for n, attrs in G.nodes.items():\n",
    "    attrs['domain'] = domain(n)\n",
    "    if n in top10_connected_16s and n in top10_abundance_16s:\n",
    "        attrs['color'] = 'orange'\n",
    "    elif n in top10_connected_16s:\n",
    "        attrs['color'] = 'red'\n",
    "    elif n in top10_abundance_16s:\n",
    "        attrs['color'] = 'yellow'\n",
    "    elif n in top10_connected_18s and n in top10_abundance_18s:\n",
    "        attrs['color'] = 'violet'\n",
    "    elif n in top10_connected_18s:\n",
    "        attrs['color'] = 'blue'\n",
    "    elif n in top10_abundance_18s:\n",
    "        attrs['color'] = 'green'\n",
    "    else:\n",
    "        if domain(n) == '16s':\n",
    "            attrs['color'] = 'pink'\n",
    "        else:\n",
    "            attrs['color'] = 'indigo'"
   ]
  },
  {
   "cell_type": "code",
   "execution_count": 31,
   "metadata": {},
   "outputs": [],
   "source": [
    "nx.write_gml(G, os.path.join(OUTDIR, 'graph.gml'), stringizer=lambda x: '; '.join(x) if type(x)!=str else x)"
   ]
  },
  {
   "cell_type": "code",
   "execution_count": null,
   "metadata": {},
   "outputs": [],
   "source": []
  },
  {
   "cell_type": "code",
   "execution_count": 32,
   "metadata": {},
   "outputs": [
    {
     "data": {
      "text/plain": [
       "Counter({'red': 120, 'green': 132})"
      ]
     },
     "execution_count": 32,
     "metadata": {},
     "output_type": "execute_result"
    }
   ],
   "source": [
    "G = nx.read_gml(os.path.join(OUTDIR, 'graph.gml'))\n",
    "Counter([G.edges[n]['color'] for n in G.edges])"
   ]
  },
  {
   "cell_type": "code",
   "execution_count": 33,
   "metadata": {},
   "outputs": [
    {
     "data": {
      "text/plain": [
       "77"
      ]
     },
     "execution_count": 33,
     "metadata": {},
     "output_type": "execute_result"
    }
   ],
   "source": [
    "len(G.nodes)"
   ]
  },
  {
   "cell_type": "code",
   "execution_count": null,
   "metadata": {},
   "outputs": [],
   "source": []
  }
 ],
 "metadata": {
  "kernelspec": {
   "display_name": "Python 3",
   "language": "python",
   "name": "python3"
  },
  "language_info": {
   "codemirror_mode": {
    "name": "ipython",
    "version": 3
   },
   "file_extension": ".py",
   "mimetype": "text/x-python",
   "name": "python",
   "nbconvert_exporter": "python",
   "pygments_lexer": "ipython3",
   "version": "3.6.9"
  }
 },
 "nbformat": 4,
 "nbformat_minor": 4
}
